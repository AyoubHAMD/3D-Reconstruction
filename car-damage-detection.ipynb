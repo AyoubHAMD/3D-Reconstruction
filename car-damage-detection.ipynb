Application of trained Mask R-CNN model for car damage detection

